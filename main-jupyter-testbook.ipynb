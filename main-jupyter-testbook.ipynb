{
 "cells": [
  {
   "cell_type": "markdown",
   "metadata": {},
   "source": [
    "**BEN Coding Interview - Premkumar Vincent**\n",
    "\n",
    "*Testing code using Jupter*"
   ]
  },
  {
   "cell_type": "code",
   "execution_count": null,
   "metadata": {},
   "outputs": [],
   "source": [
    "from selenium import webdriver\n",
    "from selenium.webdriver.common.by import By\n",
    "from selenium.webdriver.common.keys import Keys\n",
    "from selenium.webdriver.chrome.service import Service\n",
    "from selenium.webdriver.chrome.options import Options\n",
    "import time\n",
    "\n",
    "# Set up ChromeDriver options\n",
    "chrome_options = Options()\n",
    "chrome_options.add_argument(\"--headless\")  # Run in headless mode (optional)\n",
    "chrome_options.add_argument(\"--no-sandbox\")\n",
    "chrome_options.add_argument(\"--disable-dev-shm-usage\")\n",
    "\n",
    "# Path to your ChromeDriver executable\n",
    "CHROMEDRIVER_PATH = \"path/to/chromedriver\"\n",
    "\n",
    "# Create a WebDriver instance\n",
    "service = Service(CHROMEDRIVER_PATH)\n",
    "driver = webdriver.Chrome(service=service, options=chrome_options)\n",
    "\n",
    "# Base URL\n",
    "url = \"http://13.209.85.69/\"\n",
    "\n",
    "def test_register(username, password, email):\n",
    "    driver.get(url)  # Load the web page\n",
    "\n",
    "    # Wait for the page to load completely (adjust time if needed)\n",
    "    time.sleep(2)\n",
    "\n",
    "    # Find input fields and enter values\n",
    "    username_field = driver.find_element(By.ID, \"username\")\n",
    "    password_field = driver.find_element(By.ID, \"password\")\n",
    "    email_field = driver.find_element(By.ID, \"email\")\n",
    "\n",
    "    username_field.clear()\n",
    "    username_field.send_keys(username)\n",
    "\n",
    "    password_field.clear()\n",
    "    password_field.send_keys(password)\n",
    "\n",
    "    email_field.clear()\n",
    "    email_field.send_keys(email)\n",
    "\n",
    "    # Click the Register button\n",
    "    register_button = driver.find_element(By.XPATH, \"//button[text()='Register']\")\n",
    "    register_button.click()\n",
    "\n",
    "    # Wait for the result (adjust time if needed)\n",
    "    time.sleep(3)\n",
    "\n",
    "    # Capture and print the result (e.g., success/failure message)\n",
    "    try:\n",
    "        alert_message = driver.find_element(By.CLASS_NAME, \"alert-message\")\n",
    "        print(f\"Test with username='{username}' result: {alert_message.text}\")\n",
    "    except:\n",
    "        print(f\"Test with username='{username}' result: No alert message found\")\n",
    "\n",
    "# Test success case\n",
    "test_register(\"test1\", \"password\", \"test123@\")\n",
    "\n",
    "# Test failure case\n",
    "test_register(\"test\", \"password\", \"test123@\")\n",
    "\n",
    "# Close the browser\n",
    "driver.quit()\n"
   ]
  }
 ],
 "metadata": {
  "kernelspec": {
   "display_name": "python310",
   "language": "python",
   "name": "python3"
  },
  "language_info": {
   "codemirror_mode": {
    "name": "ipython",
    "version": 3
   },
   "file_extension": ".py",
   "mimetype": "text/x-python",
   "name": "python",
   "nbconvert_exporter": "python",
   "pygments_lexer": "ipython3",
   "version": "3.10.13"
  }
 },
 "nbformat": 4,
 "nbformat_minor": 2
}
