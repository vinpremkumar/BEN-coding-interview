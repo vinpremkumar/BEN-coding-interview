{
 "cells": [
  {
   "cell_type": "markdown",
   "metadata": {},
   "source": [
    "**BEN Coding Interview - Premkumar Vincent**\n",
    "\n",
    "*Testing code using Jupter*"
   ]
  },
  {
   "cell_type": "code",
   "execution_count": 18,
   "metadata": {},
   "outputs": [],
   "source": [
    "from selenium import webdriver\n",
    "from selenium.webdriver.common.by import By\n",
    "from selenium.common.exceptions import NoAlertPresentException\n",
    "import time\n"
   ]
  },
  {
   "cell_type": "code",
   "execution_count": 19,
   "metadata": {},
   "outputs": [
    {
     "name": "stdout",
     "output_type": "stream",
     "text": [
      "Test with username='test123', password='password', email='test123': Please enter a valid email.\n",
      "Test with username='test', password='password123', email='test123@domain.com': Username must be at least 5 characters.\n",
      "Test with username='test123', password='password', email='test123@': No alert dialog found\n"
     ]
    }
   ],
   "source": [
    "driver = webdriver.Chrome() \n",
    "url = \"http://13.209.85.69/\"\n",
    "\n",
    "def test_register(username, password, email):\n",
    "    driver.get(url) \n",
    "    time.sleep(2) \n",
    "    \n",
    "    # Enter data\n",
    "    username_field = driver.find_element(By.ID, \"username\")\n",
    "    password_field = driver.find_element(By.ID, \"password\")\n",
    "    email_field = driver.find_element(By.ID, \"email\")\n",
    "\n",
    "    username_field.clear()\n",
    "    username_field.send_keys(username)\n",
    "    \n",
    "    password_field.clear()\n",
    "    password_field.send_keys(password)\n",
    "\n",
    "    email_field.clear()\n",
    "    email_field.send_keys(email)\n",
    "\n",
    "    register_button = driver.find_element(By.XPATH, \"//input[@type='submit' and @value='Register']\")\n",
    "    register_button.click()\n",
    "    \n",
    "    # Wait for alert\n",
    "    time.sleep(2)\n",
    "\n",
    "    try:\n",
    "        alert = driver.switch_to.alert\n",
    "        alert_text = alert.text  # Capture alert text\n",
    "        print(f\"Test with username='{username}', password='{password}', email='{email}': {alert_text}\")\n",
    "        alert.accept()\n",
    "    except NoAlertPresentException:\n",
    "        print(f\"Test with username='{username}', password='{password}', email='{email}': No alert dialog found\")\n",
    "\n",
    "# Test success and failure cases\n",
    "# Invalid email\n",
    "test_register(\"test123\", \"password\", \"test123\") # Triggers that email is invalid\n",
    "\n",
    "# Invalid username\n",
    "test_register(\"test\", \"password123\", \"test123@domain.com\") # username should be greater than 5 characters\n",
    "\n",
    "# Success case\n",
    "\n",
    "test_register(\"test123\", \"password\", \"test123@\") # Triggers that email is invalid\n",
    "\n",
    "driver.quit()"
   ]
  },
  {
   "cell_type": "code",
   "execution_count": null,
   "metadata": {},
   "outputs": [],
   "source": []
  }
 ],
 "metadata": {
  "kernelspec": {
   "display_name": "python310",
   "language": "python",
   "name": "python3"
  },
  "language_info": {
   "codemirror_mode": {
    "name": "ipython",
    "version": 3
   },
   "file_extension": ".py",
   "mimetype": "text/x-python",
   "name": "python",
   "nbconvert_exporter": "python",
   "pygments_lexer": "ipython3",
   "version": "3.10.13"
  }
 },
 "nbformat": 4,
 "nbformat_minor": 2
}
